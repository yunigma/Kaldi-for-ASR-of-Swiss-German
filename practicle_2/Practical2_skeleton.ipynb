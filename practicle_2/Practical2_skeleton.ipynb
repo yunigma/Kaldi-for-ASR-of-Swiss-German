{
  "nbformat": 4,
  "nbformat_minor": 0,
  "metadata": {
    "colab": {
      "name": "Practical2_skeleton.ipynb",
      "provenance": [],
      "collapsed_sections": [],
      "include_colab_link": true
    },
    "kernelspec": {
      "display_name": "Python 3",
      "language": "python",
      "name": "python3"
    },
    "language_info": {
      "codemirror_mode": {
        "name": "ipython",
        "version": 3
      },
      "file_extension": ".py",
      "mimetype": "text/x-python",
      "name": "python",
      "nbconvert_exporter": "python",
      "pygments_lexer": "ipython3",
      "version": "3.8.3"
    }
  },
  "cells": [
    {
      "cell_type": "markdown",
      "metadata": {
        "id": "view-in-github",
        "colab_type": "text"
      },
      "source": [
        "<a href=\"https://colab.research.google.com/github/yunigma/Kaldi-for-ASR-of-Swiss-German/blob/master/practicle_2/Practical2_skeleton.ipynb\" target=\"_parent\"><img src=\"https://colab.research.google.com/assets/colab-badge.svg\" alt=\"Open In Colab\"/></a>"
      ]
    },
    {
      "cell_type": "markdown",
      "metadata": {
        "id": "JRtrL4C8nyX3"
      },
      "source": [
        "# Practical 2 : Generative and Discriminative Models\n"
      ]
    },
    {
      "cell_type": "markdown",
      "metadata": {
        "id": "3-ILTjR-nyX7"
      },
      "source": [
        "In this practical, we will compare the Naïve Bayes Classifier (NBC) and Logistic Regression on several\n",
        "datasets. As part of the practical you should read briefly the following paper:\n",
        "\n"
      ]
    },
    {
      "cell_type": "markdown",
      "metadata": {
        "id": "34HzEMhvnyX8"
      },
      "source": [
        "**On Discriminative vs. Generative classifiers: A comparison of logistic regression\n",
        "and naive Bayes**  \n",
        "*Andrew Y. Ng and Michael I. Jordan*  \n",
        "Advances in Neural Information Processing Systems (NIPS) 2001.\n",
        "\n",
        "The paper is available on OLAT. "
      ]
    },
    {
      "cell_type": "markdown",
      "metadata": {
        "id": "hoWymLIdnyX8"
      },
      "source": [
        "You should read the Introduction and the Experiments sections. The goal of this practical is\n",
        "to qualitatively reproduce some of the experimental results in this paper. You are strongly\n",
        "encouraged to read the rest of the paper, which is rather short and straightforward to read,\n",
        "though some of you may want to skip the formal proofs."
      ]
    },
    {
      "cell_type": "markdown",
      "metadata": {
        "id": "nOOTdyqdnyX9"
      },
      "source": [
        "## Naïve Bayes Classifier (NBC)"
      ]
    },
    {
      "cell_type": "markdown",
      "metadata": {
        "id": "9Lg0Rz72nyX9"
      },
      "source": [
        "You should implement a Naïve Bayes Classifier from scartch using NumPy. To keep your code tidy,\n",
        "we recommend implementing it as a class. \n",
        "The classifier should be able to handle binary and continuous features. \n",
        "To earn the bonus points, the classifier should be able to handle categorical features as well. \n",
        "Suppose the data has 3\n",
        "different features, the first being binary, the second being continuous and the third being categorical. Write an implementation that you can initialise as follows:\n",
        "\n",
        "    nbc = NBC(feature_types=['b', 'r', 'c'])"
      ]
    },
    {
      "cell_type": "markdown",
      "metadata": {
        "id": "jijoBFM3nyX-"
      },
      "source": [
        "Along the lines of classifiers provided in sklearn, you want to implement two more functions,\n",
        "**fit** and **predict**. \n",
        "Recall the joint distribution of a generative model: $p(\\mathbf{x}, y \\mid \\theta, \\pi) = p(y \\mid \\pi) \\cdot p(\\mathbf{x} \\mid y, \\theta)$.\n",
        "The **fit** function is to estimate all the parameters ($\\theta$ and $\\pi$) of the NBC, i.e., train the classifier. The **predict** function is to compute the probabilities that the new input belongs to all classes and\n",
        "then return the class that has the largest probability, i.e., make the prediction.\n",
        "\n",
        "    nbc.fit(X_train, y_train)\n",
        "    ypredicted = nbc.predict(X_test)\n",
        "    test_accuracy = np.mean(ypredicted == ytest)"
      ]
    },
    {
      "cell_type": "markdown",
      "metadata": {
        "id": "bdDeIxZanyX-"
      },
      "source": [
        "Here we import the libraries. "
      ]
    },
    {
      "cell_type": "code",
      "metadata": {
        "id": "ckeJcLm4nyX-"
      },
      "source": [
        "%matplotlib inline\n",
        "import pylab\n",
        "pylab.rcParams['figure.figsize'] = (10., 10.)\n",
        "\n",
        "import pickle as cp\n",
        "import matplotlib.pyplot as plt\n",
        "import numpy as np\n",
        "from collections import Counter, defaultdict\n",
        "import _pickle as cp\n",
        "import pandas as pd\n",
        "from abc import ABC, abstractmethod\n",
        "\n",
        "from scipy.stats import norm, bernoulli, multinomial\n",
        "\n",
        "ALPHA = 1 # for additive smoothing\n",
        "VAR_ZERO = 1e-6\n",
        "NUM_FEAT_MULTINARY = 2"
      ],
      "execution_count": 11,
      "outputs": []
    },
    {
      "cell_type": "code",
      "metadata": {
        "id": "oXL3y5oZY0vM"
      },
      "source": [
        "import warnings\n",
        "warnings.filterwarnings(\"ignore\", category=DeprecationWarning)\n",
        "# warnings.filterwarnings(\"ignore\", category=[DeprecationWarning, ConvergenceWarning])"
      ],
      "execution_count": 13,
      "outputs": []
    },
    {
      "cell_type": "markdown",
      "metadata": {
        "id": "Q3Lc6JT1nyYA"
      },
      "source": [
        "### Class-conditional distributions\n",
        "\n",
        "Before implementing NBC, we first implement the class-conditional distributions $p(\\mathbf{x} \\mid y, \\theta)$. Your implementation should have two functions: **estimate** and **get_log_probability**. \n",
        "\n",
        "- The **estimate** function takes data as input and models the data using some distribution $p(x \\mid \\theta)$, where $\\theta$ is the parameters of this distribution. The function estimates the parameters $\\theta$ using maximum likelihood estimators (MLE). \n",
        "For example, in the case of continuous features, we use the Gaussian distribution to model the data. The estimate function will find the parameters $\\mu$ and $\\sigma$ for the Gaussian distribution with respect to the input data. \n",
        "\n",
        "- The **get_log_probability** function takes as input a new data point $x_{new}$ and returns the log of $p(x_{new} \\mid \\theta)$. For the Gaussian distribution, the function get_probability will return $\\mathcal{N}(x_{new} \\mid \\mu, \\sigma)$. "
      ]
    },
    {
      "cell_type": "markdown",
      "metadata": {
        "id": "KhGrm7YdnyYB"
      },
      "source": [
        "For different types of features, you need to use different distributions.\n",
        "You can import statistic libraries (e.g., `scipy.stats`) for the implementation of the distributions. \n",
        "\n",
        "- For **continuous features**: Use Gaussian distribution\n",
        "    https://docs.scipy.org/doc/scipy/reference/generated/scipy.stats.norm.html\n",
        "- For **binary features**: Use Bernoulli distribution \n",
        "    https://docs.scipy.org/doc/scipy/reference/generated/scipy.stats.bernoulli.html\n",
        "- For **categorical features**: Use Multinoulli distribution (The multinoulli distribution is a special case of the multinomial distribution, where the number of trials is 1)\n",
        "    https://docs.scipy.org/doc/scipy/reference/generated/scipy.stats.multinomial.html\n",
        "\n"
      ]
    },
    {
      "cell_type": "markdown",
      "metadata": {
        "id": "NbnxkwCFnyYC"
      },
      "source": [
        "**Implementation Issues:**\n",
        "- The probabilities can be very small. To avoid underflow issues, you should compute the log of the probabilities. Read more: (Mur) Chapter 3.5.3 / Lecture Notes\n",
        "- The variance for Gaussian distributions should never be exactly 0, so in\n",
        "case your calculated variance is 0, you may want to set it to a small value such as 1e − 6. This is to ensure that your code never encounters division by zero or\n",
        "taking logarithms of 0 errors. \n",
        "For this practical, please set the small value to 1e-6.\n",
        "- Laplace/Additive smoothing: You want to ensure that the estimates for the parameter for the Bernoulli and Multinoulli random variables is never exactly 0 or 1. For this reason you should consider using Laplace smoothing (https://en.wikipedia.org/wiki/Additive_smoothing).\n",
        "For this practical, please set alpha to 1.\n",
        "- We will check the correctness of your implementation using the tests below.\n",
        "- For simplicity, you can assume the data values for binary features are integers from {0,1} and the data for a categorical feature with M categories are integers from {0, ..., M-1}.\n",
        "- Fell free to add auxiliary functions or change the parameters of the functions. If you change the parameters of the functions, make sure you change the tests accordingly, so we can test your code.\n"
      ]
    },
    {
      "cell_type": "code",
      "metadata": {
        "id": "ABTnCVLjnyYD"
      },
      "source": [
        "def Laplace_smoothing(count, N, num_of_categories):\n",
        "  return (count + ALPHA) / (N + ALPHA * num_of_categories)\n",
        "\n",
        "\n",
        "class NBCFeatureParam(ABC):\n",
        "    @abstractmethod\n",
        "    def get_log_probability(self, X_new):\n",
        "        pass\n",
        "\n",
        "\n",
        "class NBCFeatureParamDummyZero(NBCFeatureParam):\n",
        "    def get_log_probability(self, X_new):\n",
        "        return VAR_ZERO * VAR_ZERO\n",
        "\n",
        "\n",
        "# Distribution for continuous features\n",
        "class ContFeatureParam:\n",
        "    def __init__(self):\n",
        "        self.mean = np.array\n",
        "        self.sd = np.array\n",
        "\n",
        "    def estimate(self, X):\n",
        "        # TODO: Estimate the parameters for the Gaussian distribution \n",
        "        # so that it best describes the input data X\n",
        "        # The code below is just for compilation. \n",
        "        # You need to replace it by your own code.\n",
        "        ###################################################\n",
        "        ##### YOUR CODE STARTS HERE #######################\n",
        "        ###################################################\n",
        "        self.mean = np.mean(X, axis=0)\n",
        "        self.sd = np.std(X, axis=0)\n",
        "        self.sd = np.array(self.sd)\n",
        "        self.sd[self.sd == 0.0] = VAR_ZERO\n",
        "        ###################################################\n",
        "        ##### YOUR CODE ENDS HERE #########################\n",
        "        ###################################################\n",
        "\n",
        "    def get_log_probability(self, X_new):\n",
        "        # TODO: return the log of the density values for the input values X_new\n",
        "        # The code below is just for compilation. \n",
        "        # You need to replace it by your own code.\n",
        "        ###################################################\n",
        "        ##### YOUR CODE STARTS HERE #######################\n",
        "        ###################################################\n",
        "        return norm.logpdf(X_new, self.mean, self.sd)\n",
        "        ###################################################\n",
        "        ##### YOUR CODE ENDS HERE #########################\n",
        "        ###################################################\n",
        "\n",
        "\n",
        "# Distribution for binary features\n",
        "class BinFeatureParam:\n",
        "    def __init__(self):\n",
        "        self.theta = 0.0\n",
        "\n",
        "    def estimate(self, X):\n",
        "        # TODO: Estimate the parameters for the Bernoulli distribution \n",
        "        # so that it best describes the input data X\n",
        "        # The code below is just for compilation. \n",
        "        # You need to replace it by your own code.\n",
        "        ###################################################\n",
        "        ##### YOUR CODE STARTS HERE #######################\n",
        "        ###################################################\n",
        "        X_smooth = np.append(X, [0, 1] * ALPHA)\n",
        "        probs = X_smooth[np.where(X_smooth == 1)].size / X_smooth.size\n",
        "        self.theta, var = bernoulli.stats(probs)\n",
        "        return self.theta\n",
        "        ###################################################\n",
        "        ##### YOUR CODE ENDS HERE #########################\n",
        "        ###################################################\n",
        "\n",
        "    def get_log_probability(self, X_new):\n",
        "        # TODO: return the log of the probability values for the input values X_new\n",
        "        # The code below is just for compilation. \n",
        "        # You need to replace it by your own code.\n",
        "        ###################################################\n",
        "        ##### YOUR CODE STARTS HERE #######################\n",
        "        ###################################################\n",
        "        return bernoulli.logpmf(X_new, self.theta)\n",
        "        ###################################################\n",
        "        ##### YOUR CODE ENDS HERE #########################\n",
        "        ###################################################\n",
        "\n",
        "\n",
        "# Distribution for categorical features\n",
        "class CatFeatureParam:\n",
        "    \n",
        "    # we need to know the number of categories for the categorical feature\n",
        "    def __init__(self, num_of_categories):\n",
        "        self._num_of_categories = num_of_categories\n",
        "        self.theta = []\n",
        "    \n",
        "    def estimate(self, X):\n",
        "        # TODO: Estimate the parameters for the Multinoulli distribution \n",
        "        # so that it best describes the input data X\n",
        "        # The code below is just for compilation. \n",
        "        # You need to replace it by your own code.\n",
        "        ###################################################\n",
        "        ##### YOUR CODE STARTS HERE #######################\n",
        "        ###################################################\n",
        "        counts = Counter(X)\n",
        "        for k in range(self._num_of_categories):\n",
        "          self.theta.append(Laplace_smoothing(counts[k], X.size, self._num_of_categories))\n",
        "        return self.theta\n",
        "        ###################################################\n",
        "        ##### YOUR CODE ENDS HERE #########################\n",
        "        ###################################################\n",
        "        \n",
        "    def get_log_probability(self, X_new):\n",
        "        # TODO: return the log of the probability values for the input values X_new\n",
        "        # The code below is just for compilation. \n",
        "        # You need to replace it by your own code.\n",
        "        ###################################################\n",
        "        ##### YOUR CODE STARTS HERE #######################\n",
        "        ###################################################\n",
        "        log_prob_values = []\n",
        "        for k in X_new:\n",
        "          data_point = np.zeros(self._num_of_categories)\n",
        "          data_point[k] = 1\n",
        "          log_prob_values.append(multinomial.logpmf(data_point, n=1,\n",
        "                                                    p=self.theta))\n",
        "        return log_prob_values\n",
        "        ###################################################\n",
        "        ##### YOUR CODE ENDS HERE #########################\n",
        "        ###################################################"
      ],
      "execution_count": 16,
      "outputs": []
    },
    {
      "cell_type": "markdown",
      "metadata": {
        "id": "gmT9aMXEnyYD"
      },
      "source": [
        "**Tests:**\n",
        "    \n",
        "We will use the code below to test the correctness of your code."
      ]
    },
    {
      "cell_type": "code",
      "metadata": {
        "colab": {
          "base_uri": "https://localhost:8080/"
        },
        "id": "jWpGGLNxnyYE",
        "outputId": "c182c3f1-97fa-4056-e139-765b110cd5d1"
      },
      "source": [
        "# continuous features\n",
        "\n",
        "X = np.array([2.70508547,2.10499698,1.76019132,3.42016431,3.47037973,3.67435061,1.84749286,4.3388506,2.27818252,4.65165335])\n",
        "\n",
        "param = ContFeatureParam()\n",
        "param.estimate(X)\n",
        "probs = param.get_log_probability(np.array([0,1,2,3]))\n",
        "print(probs)"
      ],
      "execution_count": 17,
      "outputs": [
        {
          "output_type": "stream",
          "name": "stdout",
          "text": [
            "[-5.64670664 -3.02757918 -1.44567455 -0.90099277]\n"
          ]
        }
      ]
    },
    {
      "cell_type": "code",
      "metadata": {
        "colab": {
          "base_uri": "https://localhost:8080/"
        },
        "id": "ms0USHrHnyYF",
        "outputId": "30c9919b-f5b6-49cf-aaa9-6967301d1441"
      },
      "source": [
        "# binary features\n",
        "\n",
        "X = np.array([0,0,1,1,0,1,0,1,1,1])\n",
        "\n",
        "param = BinFeatureParam()\n",
        "param.estimate(X)\n",
        "probs = param.get_log_probability(np.array([0,1]))\n",
        "print(probs)"
      ],
      "execution_count": 18,
      "outputs": [
        {
          "output_type": "stream",
          "name": "stdout",
          "text": [
            "[-0.87546874 -0.5389965 ]\n"
          ]
        }
      ]
    },
    {
      "cell_type": "code",
      "metadata": {
        "colab": {
          "base_uri": "https://localhost:8080/"
        },
        "id": "JCg0I-y9nyYF",
        "outputId": "4682c2ea-9f0c-4c26-8e44-89c6d01ebd52"
      },
      "source": [
        "# categorical features (bonus task)\n",
        "\n",
        "X = np.array([0,6,5,4,0,6,6,4,1,1,2,3,8,8,1,6,4,9,0,2,2,3,8,0,2])\n",
        "\n",
        "param = CatFeatureParam(num_of_categories=10)\n",
        "param.estimate(X)\n",
        "probs = param.get_log_probability(np.array([0,1,2,3,4,5,6,7,8,9]))\n",
        "print(probs)"
      ],
      "execution_count": 19,
      "outputs": [
        {
          "output_type": "stream",
          "name": "stdout",
          "text": [
            "[array(-1.94591015), array(-2.1690537), array(-1.94591015), array(-2.45673577), array(-2.1690537), array(-2.86220088), array(-1.94591015), array(-3.55534806), array(-2.1690537), array(-2.86220088)]\n"
          ]
        }
      ]
    },
    {
      "cell_type": "markdown",
      "metadata": {
        "id": "LMbOAtuGnyYF"
      },
      "source": [
        "### Implement NBC\n",
        "\n",
        "We are now ready to implement NBC. We follow the structure of models in scikit-learn. We implement NBC as a class with functions **init**, **fit** and **predict**.\n",
        "The **init** function takes as input the types of features and initialise the classifier. The **fit** function takes the training data as input and estimates the parameters. The **predict** function predicts the label for the input data. "
      ]
    },
    {
      "cell_type": "markdown",
      "metadata": {
        "id": "XsYS9YoQnyYG"
      },
      "source": [
        "**Implementation Issues:**\n",
        "- You should use matrix operations rather than loops. In general, loops over classes or features are OK, but loops over the rows of data are not a good idea.\n",
        "- The probabilities can be very small. To avoid underflow issues, you should do the calculations in log space. Read more: (Mur) Chapter 3.5.3 / Lecture Note\n",
        "- For simplicity, you can assume the data values for binary features are integers from {0, 1} and the data for a categorical feature with M categories are integers from {0, ..., M-1}.\n",
        "- Fell free to add auxiliary functions or change the parameters of the functions. If you change the parameters of the functions, make sure you change the tests accordingly, so we can test your code."
      ]
    },
    {
      "cell_type": "code",
      "metadata": {
        "id": "L2UuemWsnyYG"
      },
      "source": [
        "# Your task is to implement the three functions of NBC. \n",
        "class NBC:\n",
        "    # Inputs:\n",
        "    #   feature_types: the array of the types of the features, e.g., feature_types=['r', 'b', 'c']\n",
        "    def __init__(self, feature_types=np.array):\n",
        "        # TODO: \n",
        "        # The code below is just for compilation. \n",
        "        # You need to replace it by your own code.\n",
        "        ###################################################\n",
        "        ##### YOUR CODE STARTS HERE #######################\n",
        "        ###################################################\n",
        "        self._feature_types = feature_types\n",
        "        self._n_classes = int\n",
        "        self._n_feats = int\n",
        "        self.class_feat_params = []\n",
        "        self._prior = {}\n",
        "        ###################################################\n",
        "        ##### YOUR CODE ENDS HERE #########################\n",
        "        ###################################################\n",
        "\n",
        "    def get_log_cond_prob(self, cl, x_test):\n",
        "        feature_cond_probs = []\n",
        "        for feat in range(self._n_feats):\n",
        "          feature_cond_prob = self.class_feat_params[cl][feat].get_log_probability(x_test[feat])\n",
        "          feature_cond_probs.append(feature_cond_prob)\n",
        "        return feature_cond_probs\n",
        "\n",
        "    def get_posterior(self, x_test):\n",
        "        posteriors = []\n",
        "        for cl in range(self._n_classes):\n",
        "          conditional = np.sum(self.get_log_cond_prob(cl, x_test))\n",
        "          posterior = np.log(self._prior[cl]) + conditional\n",
        "          posteriors.append(posterior)\n",
        "        return np.argmax(posteriors)\n",
        "\n",
        "    # The function uses the input data to estimate all the parameters of the NBC\n",
        "    def fit(self, X, y):\n",
        "        # TODO: \n",
        "        # The code below is just for compilation. \n",
        "        # You need to replace it by your own code.\n",
        "        ###################################################\n",
        "        ##### YOUR CODE STARTS HERE #######################\n",
        "        ###################################################\n",
        "        continuous_feats_ids = np.squeeze(np.argwhere(self._feature_types == 'r'), 1)\n",
        "        binary_feats_ids = np.squeeze(np.argwhere(self._feature_types == 'b'), 1)\n",
        "        categorical_feats_ids = np.squeeze(np.argwhere(self._feature_types == 'c'), 1)\n",
        "        X_continuous_feats = X[:, continuous_feats_ids]\n",
        "        X_binary_feats = X[:, binary_feats_ids]\n",
        "        X_categorical_feats = X[:, categorical_feats_ids]\n",
        "\n",
        "        self._n_classes = np.unique(y).size\n",
        "        data_size = X.shape[0]\n",
        "        self._n_feats = X.shape[1]\n",
        "\n",
        "        for cl in range(self._n_classes):\n",
        "            class_ids = np.squeeze(np.argwhere(y == cl))\n",
        "            class_params = np.repeat(NBCFeatureParamDummyZero(), self._n_feats)\n",
        "            \n",
        "            for i, feat in enumerate(range(self._n_feats)):\n",
        "              if continuous_feats_ids != []:\n",
        "                params_contin = ContFeatureParam()\n",
        "                params_contin.estimate(X_continuous_feats[class_ids, i])\n",
        "                class_params[i] = params_contin\n",
        "\n",
        "              if binary_feats_ids != []:\n",
        "                params_bin = BinFeatureParam()\n",
        "                params_bin.estimate(X_binary_feats[class_ids, i])\n",
        "                class_params[i] = params_bin\n",
        "\n",
        "              if categorical_feats_ids != []:\n",
        "                params_cat = CatFeatureParam()\n",
        "                params_cat.estimate(X_binary_feats[class_ids, i])\n",
        "                class_params[i] = params_cat\n",
        "              \n",
        "            self.class_feat_params.append(list(class_params))\n",
        "\n",
        "        self._prior = {k: Laplace_smoothing(v, data_size,\n",
        "                                            self._n_classes) for k, v in Counter(y).items()}\n",
        "\n",
        "        ###################################################\n",
        "        ##### YOUR CODE ENDS HERE #########################\n",
        "        ###################################################\n",
        "                \n",
        "                \n",
        "    # The function takes the data X as input, and predicts the class for the data\n",
        "    def predict(self, X_test):\n",
        "        # TODO: \n",
        "        # The code below is just for compilation. \n",
        "        # You need to replace it by your own code.\n",
        "        ###################################################\n",
        "        ##### YOUR CODE STARTS HERE #######################\n",
        "        ###################################################\n",
        "        #preds = np.apply_along_axis(self.get_posterior, 1, X_test)\n",
        "        preds = [self.get_posterior(f) for f in X_test]\n",
        "        return preds\n",
        "        ###################################################\n",
        "        ##### YOUR CODE ENDS HERE #########################\n",
        "        ###################################################\n",
        "\n",
        "    def accuracy(self, y_test, y_pred):\n",
        "        accuracy = np.sum(y_test == y_pred) / len(y_test)\n",
        "        return accuracy"
      ],
      "execution_count": 20,
      "outputs": []
    },
    {
      "cell_type": "markdown",
      "metadata": {
        "id": "PhuvFObOnyYG"
      },
      "source": [
        "**Tests**\n",
        "\n",
        "We will use the code below to check your code."
      ]
    },
    {
      "cell_type": "code",
      "metadata": {
        "colab": {
          "base_uri": "https://localhost:8080/"
        },
        "id": "9I-LjBAPeaQT",
        "outputId": "4c35dbb0-32d6-4607-fe2d-79a153310dec"
      },
      "source": [
        "# CONTINUOUS\n",
        "# All features of the iris dataset are continuous.\n",
        "from sklearn.datasets import load_iris\n",
        "iris = load_iris()\n",
        "X, y = iris['data'], iris['target']\n",
        "\n",
        "N, D = X.shape\n",
        "shuffle = np.random.permutation(N)\n",
        "Ntrain = int(0.8 * N)\n",
        "Xtrain = X[shuffle[:Ntrain]]\n",
        "ytrain = y[shuffle[:Ntrain]]\n",
        "Xtest = X[shuffle[Ntrain:]]\n",
        "ytest = y[shuffle[Ntrain:]]\n",
        "\n",
        "nbc_iris = NBC(feature_types=np.array(['r', 'r', 'r', 'r']))\n",
        "nbc_iris.fit(Xtrain, ytrain)\n",
        "yhat = nbc_iris.predict(Xtest)\n",
        "print(ytest)\n",
        "test_accuracy = np.mean(yhat == ytest)\n",
        "print(\"Accuracy:\", test_accuracy) # should be larger than 90%\n",
        "print(yhat)"
      ],
      "execution_count": 22,
      "outputs": [
        {
          "output_type": "stream",
          "name": "stdout",
          "text": [
            "[1 1 0 1 2 2 2 2 1 1 0 2 2 2 0 2 0 2 1 0 2 2 0 1 1 0 0 2 0 0]\n",
            "Accuracy: 0.9666666666666667\n",
            "[1, 1, 0, 1, 2, 2, 2, 2, 1, 1, 0, 1, 2, 2, 0, 2, 0, 2, 1, 0, 2, 2, 0, 1, 1, 0, 0, 2, 0, 0]\n"
          ]
        }
      ]
    },
    {
      "cell_type": "code",
      "metadata": {
        "colab": {
          "base_uri": "https://localhost:8080/"
        },
        "id": "QsmTlQIL8S-s",
        "outputId": "0a718b91-f5bb-4c5a-90c4-2beca51acb4e"
      },
      "source": [
        "from google.colab import drive\n",
        "\n",
        "drive.mount('/content/gdrive')"
      ],
      "execution_count": 24,
      "outputs": [
        {
          "output_type": "stream",
          "name": "stdout",
          "text": [
            "Drive already mounted at /content/gdrive; to attempt to forcibly remount, call drive.mount(\"/content/gdrive\", force_remount=True).\n"
          ]
        }
      ]
    },
    {
      "cell_type": "code",
      "metadata": {
        "id": "jY5Pq2dm8IVU"
      },
      "source": [
        "# BINARY\n",
        "# All features of this dataset are binary\n",
        "# data = pd.read_csv('./datasets/binary_test.csv', header=None)\n",
        "data = pd.read_csv('/content/gdrive/My Drive/Colab Notebooks/binary_test.csv', header=None)\n",
        "data = data.to_numpy()\n",
        "\n",
        "X = data[:,1:]\n",
        "y = data[:,0]\n",
        "\n",
        "N, D = X.shape\n",
        "shuffle = np.random.permutation(N)\n",
        "Ntrain = int(0.8 * N)\n",
        "Xtrain = X[shuffle[:Ntrain]]\n",
        "ytrain = y[shuffle[:Ntrain]]\n",
        "Xtest = X[shuffle[Ntrain:]]\n",
        "ytest = y[shuffle[Ntrain:]]\n",
        "#Xtrain = X[:Ntrain]\n",
        "#ytrain = y[:Ntrain]\n",
        "#Xtest = X[Ntrain:]\n",
        "#ytest = y[Ntrain:]"
      ],
      "execution_count": 25,
      "outputs": []
    },
    {
      "cell_type": "code",
      "metadata": {
        "colab": {
          "base_uri": "https://localhost:8080/"
        },
        "id": "FaWzlUkT7Mfm",
        "outputId": "6ec02f25-fe35-454a-f040-91011c4251b2"
      },
      "source": [
        "nbc = NBC(feature_types=np.array(['b'] * 16))\n",
        "nbc.fit(Xtrain, ytrain)\n",
        "yhat = nbc.predict(Xtest)\n",
        "test_accuracy = np.mean(yhat == ytest)\n",
        "\n",
        "print(\"Accuracy:\", test_accuracy) # should be larger than 85%\n",
        "print(yhat)"
      ],
      "execution_count": 26,
      "outputs": [
        {
          "output_type": "stream",
          "name": "stdout",
          "text": [
            "Accuracy: 0.8723404255319149\n",
            "[0, 1, 0, 1, 0, 0, 0, 0, 0, 1, 1, 1, 1, 1, 0, 0, 1, 1, 0, 1, 1, 1, 1, 0, 0, 1, 1, 1, 0, 1, 0, 0, 1, 1, 1, 0, 1, 0, 0, 1, 1, 0, 0, 1, 0, 0, 0]\n"
          ]
        }
      ]
    },
    {
      "cell_type": "code",
      "metadata": {
        "id": "iuOMKzmk-u2F"
      },
      "source": [
        "# CATEGORIAL\n",
        "# All features of this dataset are categorical (bonus task)\n",
        "# data = pd.read_csv('./datasets/categorical_test.csv', header=None)\n",
        "data = pd.read_csv('/content/gdrive/My Drive/Colab Notebooks/categorical_test.csv', header=None)\n",
        "data = data.to_numpy()\n",
        "\n",
        "X = data[:,:-1]\n",
        "y = data[:,-1]\n",
        "\n",
        "N, D = X.shape\n",
        "Ntrain = int(0.8 * N)\n",
        "Xtrain = X[:Ntrain]\n",
        "ytrain = y[:Ntrain]\n",
        "Xtest = X[Ntrain:]\n",
        "ytest = y[Ntrain:]"
      ],
      "execution_count": 27,
      "outputs": []
    },
    {
      "cell_type": "code",
      "metadata": {
        "id": "OLg1TylVe6va"
      },
      "source": [
        "nbc = NBC(feature_types=np.array(['c'] * 9))\n",
        "nbc.fit(Xtrain, ytrain)\n",
        "yhat = nbc.predict(Xtest)\n",
        "test_accuracy = np.mean(yhat == ytest)\n",
        "\n",
        "print(\"Accuracy:\", test_accuracy) # should be larger than 65%\n",
        "print(yhat)"
      ],
      "execution_count": null,
      "outputs": []
    },
    {
      "cell_type": "markdown",
      "metadata": {
        "id": "u9DOJhQYnyYI"
      },
      "source": [
        "## Logistic Regression"
      ]
    },
    {
      "cell_type": "markdown",
      "metadata": {
        "id": "CLI3P1DunyYI"
      },
      "source": [
        "For logistic regression, you should use the implementation in scikit-learn. Add the following\n",
        "line to import the LR model."
      ]
    },
    {
      "cell_type": "code",
      "metadata": {
        "id": "TsUcb8oJnyYI"
      },
      "source": [
        "from sklearn.linear_model import LogisticRegression\n",
        "from sklearn.model_selection import train_test_split\n",
        "\n",
        "RUN_TIMES = 200"
      ],
      "execution_count": 28,
      "outputs": []
    },
    {
      "cell_type": "markdown",
      "metadata": {
        "id": "7Hi8pyRrnyYJ"
      },
      "source": [
        "Check the scikit-learn documentation for the Logistic Regression model:\n",
        "- http://scikit-learn.org/stable/modules/linear_model.html#logistic-regression\n",
        "- http://scikit-learn.org/stable/modules/generated/sklearn.linear_model.LogisticRegression.html#sklearn.linear_model.LogisticRegression\n"
      ]
    },
    {
      "cell_type": "markdown",
      "metadata": {
        "id": "cU9w43U-nyYJ"
      },
      "source": [
        "## Comparing NBC and LR"
      ]
    },
    {
      "cell_type": "markdown",
      "metadata": {
        "id": "9kYEcJ9BnyYJ"
      },
      "source": [
        "### Experiments\n",
        "\n",
        "The experiment is to compare the classification error of the NBC and LR trained on increasingly larger training datasets. \n",
        "Since the datasets are so small, you should do this multiple times and\n",
        "average the classification error. One run should look as follows:\n",
        "- Shuffle the data, put 20% aside for testing.\n",
        "    \n",
        "    ```N, D = X.shape\n",
        "    Ntrain = int(0.8 * N)\n",
        "    shuffler = np.random.permutation(N)\n",
        "    Xtrain = X[shuffler[:Ntrain]]\n",
        "    ytrain = y[shuffler[:Ntrain]]\n",
        "    Xtest = X[shuffler[Ntrain:]]\n",
        "    ytest = y[shuffler[Ntrain:]]\n",
        "    \n",
        "    ```  \n",
        "\n",
        "\n",
        "- Train the classifiers with increasingly more data. For example, we can train classifiers with 10%, 20%, ..., 100% of the training data. For each case store the classification errors on the test set of the classifiers.\n",
        "\n",
        "You may want to repeat this with at least 200 random permutations (possibly as large as 1000)\n",
        "to average out the test error across the runs. In the end, you will get average test errors as a function of the size of the training data. \n",
        "We have written for you the function for making the plots for the experiments. "
      ]
    },
    {
      "cell_type": "code",
      "metadata": {
        "id": "Cq0Slo1RnyYJ"
      },
      "source": [
        "# inputs:\n",
        "#   nbc: Naive Bayes Classifier\n",
        "#   lr: Logistic Regression Classifier\n",
        "#   X, y: data\n",
        "#   num_runs: we need repeat num_runs times and store average results\n",
        "#   num_splits: we want to compare the two models on increasingly larger training sets.\n",
        "#               num_splits defines the number of increasing steps. \n",
        "# outputs:\n",
        "#   the arrays of the test errors across the runs of the two classifiers \n",
        "def compareNBCvsLR(nbc, lr, X, y, num_runs=10, num_splits=10):\n",
        "    # The code below is just for compilation. \n",
        "    # You need to replace it by your own code.\n",
        "    ###################################################\n",
        "    ##### YOUR CODE STARTS HERE #######################\n",
        "    ###################################################\n",
        "    tst_errs_nbc = np.zeros(num_splits)\n",
        "    tst_errs_lr = np.zeros(num_splits)\n",
        "\n",
        "    N, D = X.shape\n",
        "    # Ntrain = int(0.8 * N)\n",
        "\n",
        "    div = 1 / num_splits\n",
        "    for j in range(0, num_splits):\n",
        "        nbc_total = 0\n",
        "        lr_total = 0\n",
        "        fraction = div * (j + 1)\n",
        "        train_size = int(0.8 * N * fraction)\n",
        "        for i in range(0, num_runs):\n",
        "            '''shuffler = np.random.permutation(N)\n",
        "            Xtrain = X[shuffler[:Ntrain]]\n",
        "            ytrain = y[shuffler[:Ntrain]]\n",
        "            Xtest = X[shuffler[Ntrain:]]\n",
        "            ytest = y[shuffler[Ntrain:]]'''\n",
        "            Xtrain, Xtest, ytrain, ytest = train_test_split(X, y, test_size=0.2, train_size=train_size, stratify=y)\n",
        "            Xtrain = Xtrain[:train_size]\n",
        "\n",
        "            lr.fit(Xtrain, ytrain)\n",
        "            nbc.fit(Xtrain, ytrain)\n",
        "            yhat = nbc.predict(Xtest)\n",
        "            nbc_score = np.mean(yhat == ytest)\n",
        "            lr_score = lr.score(Xtest, ytest)\n",
        "            nbc_total += nbc_score\n",
        "            lr_total += lr_score\n",
        "        lr_avg = lr_total / num_runs \n",
        "        nbc_avg = nbc_total / num_runs\n",
        "        tst_errs_lr[j] = 1 - lr_avg    \n",
        "        tst_errs_nbc[j] = 1 - nbc_avg\n",
        "    \n",
        "    return tst_errs_nbc, tst_errs_lr\n",
        "    ###################################################\n",
        "    ##### YOUR CODE ENDS HERE #########################\n",
        "    ###################################################"
      ],
      "execution_count": 29,
      "outputs": []
    },
    {
      "cell_type": "code",
      "metadata": {
        "id": "IeMvavtQnyYJ"
      },
      "source": [
        "def makePlot(nbc_perf, lr_perf, title=None, num_splits=10):\n",
        "    fig = plt.figure()\n",
        "    ax = fig.add_subplot(1, 1, 1)\n",
        "\n",
        "    ax.tick_params(axis='both', labelsize=20)\n",
        "\n",
        "    ax.set_xlabel('Percent of training data used', fontsize=20)\n",
        "    ax.set_ylabel('Classification Error', fontsize=20)\n",
        "    if title is not None: ax.set_title(title, fontsize=25)\n",
        "\n",
        "    xaxis_scale = [(i + 1) * (100/num_splits) for i in range(num_splits)]\n",
        "    plt.plot(xaxis_scale, nbc_perf, label='Naive Bayes')\n",
        "    plt.plot(xaxis_scale, lr_perf, label='Logistic Regression', linestyle='dashed')\n",
        "    \n",
        "    ax.legend(loc='upper right', fontsize=20)"
      ],
      "execution_count": 30,
      "outputs": []
    },
    {
      "cell_type": "markdown",
      "metadata": {
        "id": "5fUW38PdnyYK"
      },
      "source": [
        "### Datasets"
      ]
    },
    {
      "cell_type": "markdown",
      "metadata": {
        "id": "e4HE2lS6nyYK"
      },
      "source": [
        "Tasks: For each dataset,\n",
        "1. prepare the data for the two classifiers, e.g., handle missing values, handle text/categorical data, etc.\n",
        "2. compare the two classifiers on the dataset and generate the plots\n",
        "3. write a short report of how you prepare the data and your observations of the comparison "
      ]
    },
    {
      "cell_type": "markdown",
      "metadata": {
        "id": "IuN0iMNNnyYK"
      },
      "source": [
        "**Dataset 1: Iris Dataset**\n",
        "\n",
        "https://scikit-learn.org/stable/auto_examples/datasets/plot_iris_dataset.html"
      ]
    },
    {
      "cell_type": "code",
      "metadata": {
        "id": "kf8gyDq0nyYK"
      },
      "source": [
        "# Features: 4 continuous, 3 classes\n",
        "# Preparation: No missing data, nothing to be cleaned\n",
        "\n",
        "# TODO: insert your code for experiments\n",
        "###################################################\n",
        "##### YOUR CODE STARTS HERE #######################\n",
        "###################################################\n",
        "from sklearn.datasets import load_iris\n",
        "iris = load_iris()\n",
        "iris_X, iris_y = iris['data'], iris['target']\n",
        "\n",
        "n, D = iris_X.shape\n",
        "feature_types = np.array(['r'] * D)\n",
        "lr = LogisticRegression()\n",
        "nb = NBC(feature_types=feature_types)\n",
        "\n",
        "nbc_perf, lr_perf = compareNBCvsLR(nb, lr, iris_X, iris_y, RUN_TIMES, 10)\n",
        "makePlot(nbc_perf, lr_perf, title=\"Iris\")\n",
        "###################################################\n",
        "##### YOUR CODE ENDS HERE #########################\n",
        "###################################################"
      ],
      "execution_count": null,
      "outputs": []
    },
    {
      "cell_type": "markdown",
      "metadata": {
        "id": "mAmwMBNxnyYK"
      },
      "source": [
        "**Dataset 2: Voting Dataset**\n",
        "\n",
        "https://archive.ics.uci.edu/ml/datasets/congressional+voting+records\n",
        "\n",
        "The logistic regression line meets the naive bayes line early in the plot. To see it clearer, you should use only 100 data points from the dataset for this experiment."
      ]
    },
    {
      "cell_type": "code",
      "metadata": {
        "colab": {
          "base_uri": "https://localhost:8080/",
          "height": 1000
        },
        "id": "4ClJdYYOnyYK",
        "outputId": "c8e7213b-307d-4177-9da4-fa42c0d48867"
      },
      "source": [
        "# Features: 16 binary features\n",
        "# Preparation: This dataset has missing data. Since it does not make sense to fill binary data with a mean or median, we remove rows with missing data.\n",
        "# Entries: 431, Cleaned: 232\n",
        "# Classes: 2 classes (democratic, republican)\n",
        "\n",
        "# load the dataset\n",
        "# TODO: insert your code for experiments\n",
        "###################################################\n",
        "##### YOUR CODE STARTS HERE #######################\n",
        "###################################################\n",
        "#load dataset\n",
        "#voting = pd.read_csv('./datasets/voting.csv')\n",
        "voting = pd.read_csv('/content/gdrive/My Drive/Colab Notebooks/voting.csv')\n",
        "\n",
        "#prep dataset: remove all rows with missing data\n",
        "voting = voting.dropna()\n",
        "voting.info()\n",
        "\n",
        "#prep dataset: replace labels with numeric\n",
        "#              split into x (features) and y (labels)\n",
        "#              replace text labels and features with int\n",
        "\n",
        "yes_no_to_bin = {\"y\": 1,\n",
        "                \"n\": 0}\n",
        "labels_to_bin = {\"democrat\": 1,\n",
        "                 \"republican\": 0}\n",
        "voting = voting.replace(yes_no_to_bin)\n",
        "voting = voting.replace(labels_to_bin)\n",
        "\n",
        "# Take 100 data points + 25 data points for test set\n",
        "voting = voting[:125]\n",
        "\n",
        "voting_y = np.array(voting['label'])\n",
        "voting_X = voting.drop('label',axis=1).to_numpy()\n",
        "\n",
        "n, D = voting_X.shape\n",
        "feature_types = np.array(['r'] * D) \n",
        "\n",
        "# #train and test:\n",
        "lr = LogisticRegression()\n",
        "nb = NBC(feature_types=feature_types)\n",
        "\n",
        "nbc_perf, lr_perf = compareNBCvsLR(nb, lr, voting_X, voting_y, RUN_TIMES, 10)\n",
        "makePlot(nbc_perf, lr_perf, title=\"Voting\")\n",
        "\n",
        "###################################################\n",
        "##### YOUR CODE ENDS HERE #########################\n",
        "###################################################"
      ],
      "execution_count": 35,
      "outputs": [
        {
          "output_type": "stream",
          "name": "stdout",
          "text": [
            "<class 'pandas.core.frame.DataFrame'>\n",
            "Int64Index: 232 entries, 5 to 431\n",
            "Data columns (total 17 columns):\n",
            " #   Column                                  Non-Null Count  Dtype \n",
            "---  ------                                  --------------  ----- \n",
            " 0   label                                   232 non-null    object\n",
            " 1   handicapped-infants                     232 non-null    object\n",
            " 2   water-project-cost-sharing              232 non-null    object\n",
            " 3   adoption-of-the-budget-resolution       232 non-null    object\n",
            " 4   physician-fee-freeze                    232 non-null    object\n",
            " 5   el-salvador-aid                         232 non-null    object\n",
            " 6   religious-groups-in-schools             232 non-null    object\n",
            " 7   anti-satellite-test-ban                 232 non-null    object\n",
            " 8   aid-to-nicaraguan-contras               232 non-null    object\n",
            " 9   mx-missile                              232 non-null    object\n",
            " 10  immigration                             232 non-null    object\n",
            " 11  synfuels-corporation-cutback            232 non-null    object\n",
            " 12  education-spending                      232 non-null    object\n",
            " 13  superfund-right-to-sue                  232 non-null    object\n",
            " 14  crime                                   232 non-null    object\n",
            " 15  duty-free-exports                       232 non-null    object\n",
            " 16  export-administration-act-south-africa  232 non-null    object\n",
            "dtypes: object(17)\n",
            "memory usage: 32.6+ KB\n"
          ]
        },
        {
          "output_type": "display_data",
          "data": {
            "image/png": "[encoded data removed]",
            "text/plain": [
              "<Figure size 720x720 with 1 Axes>"
            ]
          },
          "metadata": {
            "needs_background": "light"
          }
        }
      ]
    },
    {
      "cell_type": "code",
      "metadata": {
        "id": "F1uHvIcgnyYK"
      },
      "source": [
        ""
      ],
      "execution_count": null,
      "outputs": []
    }
  ]
}